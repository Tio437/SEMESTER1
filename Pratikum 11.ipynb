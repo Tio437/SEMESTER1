{
 "cells": [
  {
   "cell_type": "code",
   "execution_count": null,
   "metadata": {
    "colab": {
     "base_uri": "https://localhost:8080/"
    },
    "executionInfo": {
     "elapsed": 8156,
     "status": "ok",
     "timestamp": 1731592105410,
     "user": {
      "displayName": "Tio Pambud",
      "userId": "15236740662393433908"
     },
     "user_tz": -420
    },
    "id": "6bDR_G-ZavKt",
    "outputId": "c200af7e-24b7-4565-f0dd-eb98e97708d9"
   },
   "outputs": [],
   "source": [
    "import Wephe\n",
    "\n",
    "jari_jari = float(input(\"masukan jari-jari :\"))\n",
    "luas_lingkaran = Wephe.luas_lingkaran(jari_jari)\n",
    "print(f\"Luas lingkaran dengan jari-jari {jari_jari} adalah {luas_lingkaran}.\")\n",
    "\n",
    "sisi = float(input(\"masukan sisi : \"))\n",
    "luas_persegi = Wephe.luas_persegi(sisi)\n",
    "print(f\"Luas persegi dengan sisi {sisi} adalah {luas_persegi: }\")\n",
    "\n",
    "tinggi = float(input(\"masukan tinggi :\"))\n",
    "alas = float(input(\"masukan alas :\"))\n",
    "luas_segitiga = Wephe.luas_segitiga(tinggi, alas)\n",
    "print(f\"Luas segitiga dengan tinggi {tinggi} dan alas {alas} adalah: {luas_segitiga}\")\n"
   ]
  },
  {
   "cell_type": "code",
   "execution_count": null,
   "metadata": {
    "colab": {
     "base_uri": "https://localhost:8080/"
    },
    "executionInfo": {
     "elapsed": 9546,
     "status": "ok",
     "timestamp": 1731590184004,
     "user": {
      "displayName": "Tio Pambud",
      "userId": "15236740662393433908"
     },
     "user_tz": -420
    },
    "id": "XfgD_xfWtzxO",
    "outputId": "46405e82-2073-4268-a6a3-b08177a2319a"
   },
   "outputs": [
    {
     "name": "stdout",
     "output_type": "stream",
     "text": [
      "masukan angka yang akan di kuadratkan :1\n",
      "Akar kuadrat dari 1.0 adalah: 1.0\n",
      "masukan angka yang akan di desimalkan :2\n",
      "Pembulatan ke bawah dari 2.0 adalah: 2\n",
      "masukan angka yang akan desimalkan :3\n",
      "Pembulatan ke atas dari 3.0 adalah: 3\n",
      "masukan angka yang akan di faktorialkan :4\n",
      "Faktorial dari 4 adalah: 24\n",
      "masukan radius lingkaran :5\n",
      "Luas lingkaran dengan radius 5.0 adalah: 78.54\n"
     ]
    }
   ],
   "source": [
    "\n",
    "import math\n",
    "\n",
    "angka =float(input(\"masukan angka yang akan di kuadratkan :\"))\n",
    "print(f\"Akar kuadrat dari {angka} adalah: {math.sqrt(angka)}\")\n",
    "\n",
    "desimal =float(input(\"masukan angka yang akan di desimalkan :\"))\n",
    "print(f\"Pembulatan ke bawah dari {desimal} adalah: {math.floor(desimal)}\")\n",
    "\n",
    "desimal2 =float(input(\"masukan angka yang akan desimalkan :\"))\n",
    "print(f\"Pembulatan ke atas dari {desimal2} adalah: {math.ceil(desimal2)}\")\n",
    "\n",
    "n = int(input(\"masukan angka yang akan di faktorialkan :\"))\n",
    "print(f\"Faktorial dari {n} adalah: {math.factorial(n)}\")\n",
    "\n",
    "radius = float(input(\"masukan radius lingkaran :\"))\n",
    "luas_lingkaran = math.pi * math.pow(radius, 2)\n",
    "print(f\"Luas lingkaran dengan radius {radius} adalah: {luas_lingkaran:.2f}\")"
   ]
  }
 ],
 "metadata": {
  "colab": {
   "authorship_tag": "ABX9TyMT/m04gsEL+NEgGCoHI+Sp",
   "mount_file_id": "196fqHgqiRfb8krBvQD-FJmyJegtAsydy",
   "provenance": []
  },
  "kernelspec": {
   "display_name": "Python 3",
   "name": "python3"
  },
  "language_info": {
   "codemirror_mode": {
    "name": "ipython",
    "version": 3
   },
   "file_extension": ".py",
   "mimetype": "text/x-python",
   "name": "python",
   "nbconvert_exporter": "python",
   "pygments_lexer": "ipython3",
   "version": "3.12.5"
  }
 },
 "nbformat": 4,
 "nbformat_minor": 0
}
